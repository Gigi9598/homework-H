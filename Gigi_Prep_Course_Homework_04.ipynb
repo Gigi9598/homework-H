{
 "cells": [
  {
   "attachments": {},
   "cell_type": "markdown",
   "metadata": {},
   "source": [
    "## Flujos de Control"
   ]
  },
  {
   "attachments": {},
   "cell_type": "markdown",
   "metadata": {},
   "source": [
    "1) Crear una variable que contenga un elemento del conjunto de números enteros y luego imprimir por pantalla si es mayor o menor a cero"
   ]
  },
  {
   "cell_type": "code",
   "execution_count": 2,
   "metadata": {},
   "outputs": [
    {
     "name": "stdout",
     "output_type": "stream",
     "text": [
      "El número es mayor que cero\n"
     ]
    }
   ],
   "source": [
    "# Crear una variable que contenga un elemento del conjunto de números enteros\n",
    "numero_entero = 5\n",
    "\n",
    "# Imprimir por pantalla si el número es mayor o menor a cero\n",
    "if numero_entero > 0:\n",
    "    print(\"El número es mayor que cero\")\n",
    "elif numero_entero < 0:\n",
    "    print(\"El número es menor que cero\")\n",
    "else:\n",
    "    print(\"El número es igual a cero\")"
   ]
  },
  {
   "attachments": {},
   "cell_type": "markdown",
   "metadata": {},
   "source": [
    "2) Crear dos variables y un condicional que informe si son del mismo tipo de dato"
   ]
  },
  {
   "cell_type": "code",
   "execution_count": 3,
   "metadata": {},
   "outputs": [
    {
     "name": "stdout",
     "output_type": "stream",
     "text": [
      "Las variables no son del mismo tipo de dato\n"
     ]
    }
   ],
   "source": [
    "# Crear dos variables\n",
    "variable1 = 5\n",
    "variable2 = \"Hola\"\n",
    "\n",
    "# Verificar si las variables son del mismo tipo de dato\n",
    "if type(variable1) == type(variable2):\n",
    "    print(\"Las variables son del mismo tipo de dato\")\n",
    "else:\n",
    "    print(\"Las variables no son del mismo tipo de dato\")"
   ]
  },
  {
   "attachments": {},
   "cell_type": "markdown",
   "metadata": {},
   "source": [
    "3) Para los valores enteros del 1 al 20, imprimir por pantalla si es par o impar"
   ]
  },
  {
   "cell_type": "code",
   "execution_count": 4,
   "metadata": {},
   "outputs": [
    {
     "name": "stdout",
     "output_type": "stream",
     "text": [
      "1 es un número impar\n",
      "2 es un número par\n",
      "3 es un número impar\n",
      "4 es un número par\n",
      "5 es un número impar\n",
      "6 es un número par\n",
      "7 es un número impar\n",
      "8 es un número par\n",
      "9 es un número impar\n",
      "10 es un número par\n",
      "11 es un número impar\n",
      "12 es un número par\n",
      "13 es un número impar\n",
      "14 es un número par\n",
      "15 es un número impar\n",
      "16 es un número par\n",
      "17 es un número impar\n",
      "18 es un número par\n",
      "19 es un número impar\n",
      "20 es un número par\n"
     ]
    }
   ],
   "source": [
    "# Imprimir si los valores enteros del 1 al 20 son pares o impares\n",
    "for i in range(1, 21):\n",
    "    if i % 2 == 0:\n",
    "        print(f\"{i} es un número par\")\n",
    "    else:\n",
    "        print(f\"{i} es un número impar\")"
   ]
  },
  {
   "attachments": {},
   "cell_type": "markdown",
   "metadata": {},
   "source": [
    "4) En un ciclo for mostrar para los valores entre 0 y 5 el resultado de elevarlo a la potencia igual a 3"
   ]
  },
  {
   "cell_type": "code",
   "execution_count": 5,
   "metadata": {},
   "outputs": [
    {
     "name": "stdout",
     "output_type": "stream",
     "text": [
      "0 elevado a la potencia 3 es igual a 0\n",
      "1 elevado a la potencia 3 es igual a 1\n",
      "2 elevado a la potencia 3 es igual a 8\n",
      "3 elevado a la potencia 3 es igual a 27\n",
      "4 elevado a la potencia 3 es igual a 64\n",
      "5 elevado a la potencia 3 es igual a 125\n"
     ]
    }
   ],
   "source": [
    "# Mostrar el resultado de elevar los valores del 0 al 5 a la potencia igual a 3\n",
    "for i in range(6):\n",
    "    resultado = i ** 3\n",
    "    print(f\"{i} elevado a la potencia 3 es igual a {resultado}\")"
   ]
  },
  {
   "attachments": {},
   "cell_type": "markdown",
   "metadata": {},
   "source": [
    "5) Crear una variable que contenga un número entero y realizar un ciclo for la misma cantidad de ciclos"
   ]
  },
  {
   "cell_type": "code",
   "execution_count": 7,
   "metadata": {},
   "outputs": [
    {
     "name": "stdout",
     "output_type": "stream",
     "text": [
      "Este es un ciclo del bucle for\n",
      "Este es un ciclo del bucle for\n",
      "Este es un ciclo del bucle for\n",
      "Este es un ciclo del bucle for\n"
     ]
    }
   ],
   "source": [
    "# Crear una variable que contenga un número entero\n",
    "numero_entero = 4  \n",
    "\n",
    "# Utilizar un ciclo for la misma cantidad de veces que el número entero\n",
    "for _ in range(numero_entero):\n",
    "    # Se coloca el código que se va a ejecutar en cada ciclo del bucle\n",
    "    print(\"Este es un ciclo del bucle for\")"
   ]
  },
  {
   "attachments": {},
   "cell_type": "markdown",
   "metadata": {},
   "source": [
    "6) Utilizar un ciclo while para realizar el factorial de un número guardado en una variable, sólo si la variable contiene un número entero mayor a 0"
   ]
  },
  {
   "cell_type": "code",
   "execution_count": 8,
   "metadata": {},
   "outputs": [
    {
     "name": "stdout",
     "output_type": "stream",
     "text": [
      "El factorial de 5 es igual a 120\n"
     ]
    }
   ],
   "source": [
    "# Verificar si la variable contiene un número entero mayor a 0\n",
    "numero = 5 \n",
    "\n",
    "if type(numero) == int and numero > 0:\n",
    "    factorial = 1\n",
    "    i = 1\n",
    "    while i <= numero:\n",
    "        factorial *= i\n",
    "        i += 1\n",
    "    print(f\"El factorial de {numero} es igual a {factorial}\")\n",
    "else:\n",
    "    print(\"La variable no contiene un número entero mayor a 0\")"
   ]
  },
  {
   "attachments": {},
   "cell_type": "markdown",
   "metadata": {},
   "source": [
    "7) Crear un ciclo for dentro de un ciclo while"
   ]
  },
  {
   "cell_type": "code",
   "execution_count": 20,
   "metadata": {},
   "outputs": [
    {
     "name": "stdout",
     "output_type": "stream",
     "text": [
      "Comienzo del ciclo while 1\n",
      "  Iteración del ciclo for 1\n",
      "  Iteración del ciclo for 2\n",
      "  Iteración del ciclo for 3\n",
      "Fin del ciclo while 1\n",
      "\n",
      "Comienzo del ciclo while 2\n",
      "  Iteración del ciclo for 1\n",
      "  Iteración del ciclo for 2\n",
      "  Iteración del ciclo for 3\n",
      "Fin del ciclo while 2\n",
      "\n",
      "Comienzo del ciclo while 3\n",
      "  Iteración del ciclo for 1\n",
      "  Iteración del ciclo for 2\n",
      "  Iteración del ciclo for 3\n",
      "Fin del ciclo while 3\n",
      "\n"
     ]
    }
   ],
   "source": [
    "# Ciclo while\n",
    "i = 1\n",
    "while i <= 3:\n",
    "    print(f\"Comienzo del ciclo while {i}\")\n",
    "\n",
    "    # Ciclo for anidado\n",
    "    for j in range(1, 4):\n",
    "        print(f\"  Iteración del ciclo for {j}\")\n",
    "\n",
    "    print(f\"Fin del ciclo while {i}\\n\")\n",
    "    i += 1"
   ]
  },
  {
   "attachments": {},
   "cell_type": "markdown",
   "metadata": {},
   "source": [
    "8) Crear un ciclo while dentro de un ciclo for"
   ]
  },
  {
   "cell_type": "code",
   "execution_count": 21,
   "metadata": {},
   "outputs": [
    {
     "name": "stdout",
     "output_type": "stream",
     "text": [
      "Comienzo del ciclo for 1\n",
      "  Iteración del ciclo while 1\n",
      "  Iteración del ciclo while 2\n",
      "  Iteración del ciclo while 3\n",
      "Fin del ciclo for 1\n",
      "\n",
      "Comienzo del ciclo for 2\n",
      "  Iteración del ciclo while 1\n",
      "  Iteración del ciclo while 2\n",
      "  Iteración del ciclo while 3\n",
      "Fin del ciclo for 2\n",
      "\n",
      "Comienzo del ciclo for 3\n",
      "  Iteración del ciclo while 1\n",
      "  Iteración del ciclo while 2\n",
      "  Iteración del ciclo while 3\n",
      "Fin del ciclo for 3\n",
      "\n"
     ]
    }
   ],
   "source": [
    "# Ciclo for\n",
    "for i in range(1, 4):\n",
    "    print(f\"Comienzo del ciclo for {i}\")\n",
    "\n",
    "    # Ciclo while anidado\n",
    "    j = 1\n",
    "    while j <= 3:\n",
    "        print(f\"  Iteración del ciclo while {j}\")\n",
    "        j += 1\n",
    "\n",
    "    print(f\"Fin del ciclo for {i}\\n\")"
   ]
  },
  {
   "attachments": {},
   "cell_type": "markdown",
   "metadata": {},
   "source": [
    "9) Imprimir los números primos existentes entre 0 y 30"
   ]
  },
  {
   "cell_type": "code",
   "execution_count": 24,
   "metadata": {},
   "outputs": [
    {
     "name": "stdout",
     "output_type": "stream",
     "text": [
      "Números primos entre 0 y 30:\n",
      "2\n",
      "3\n",
      "5\n",
      "7\n",
      "11\n",
      "13\n",
      "17\n",
      "19\n",
      "23\n",
      "29\n"
     ]
    }
   ],
   "source": [
    "# Imprimir los números primos entre 0 y 30\n",
    "print(\"Números primos entre 0 y 30:\")\n",
    "for num in range(2, 31):\n",
    "    es_primo = True\n",
    "    for i in range(2, int(num ** 0.5) + 1):\n",
    "        if num % i == 0:\n",
    "            es_primo = False\n",
    "            break\n",
    "    if es_primo:\n",
    "        print(num)"
   ]
  },
  {
   "attachments": {},
   "cell_type": "markdown",
   "metadata": {},
   "source": [
    "10) ¿Se puede mejorar el proceso del punto 9? Utilizar las sentencias break y/ó continue para tal fin"
   ]
  },
  {
   "cell_type": "code",
   "execution_count": 25,
   "metadata": {},
   "outputs": [
    {
     "name": "stdout",
     "output_type": "stream",
     "text": [
      "Números primos entre 0 y 30:\n",
      "2\n",
      "3\n",
      "5\n",
      "7\n",
      "11\n",
      "13\n",
      "17\n",
      "19\n",
      "23\n",
      "29\n"
     ]
    }
   ],
   "source": [
    "# Imprimir los números primos entre 0 y 30 utilizando break y/ó continue \n",
    "print(\"Números primos entre 0 y 30:\")\n",
    "for num in range(2, 31):\n",
    "    es_primo = True\n",
    "    for i in range(2, int(num ** 0.5) + 1):\n",
    "        if num % i == 0:\n",
    "            es_primo = False\n",
    "            break\n",
    "    if es_primo:\n",
    "        print(num)"
   ]
  },
  {
   "attachments": {},
   "cell_type": "markdown",
   "metadata": {},
   "source": [
    "11) En los puntos 9 y 10, se diseño un código que encuentra números primos y además se lo optimizó. ¿Es posible saber en qué medida se optimizó?"
   ]
  },
  {
   "cell_type": "code",
   "execution_count": 26,
   "metadata": {},
   "outputs": [
    {
     "name": "stdout",
     "output_type": "stream",
     "text": [
      "Números primos entre 0 y 30:\n",
      "2\n",
      "3\n",
      "5\n",
      "7\n",
      "11\n",
      "13\n",
      "17\n",
      "19\n",
      "23\n",
      "29\n"
     ]
    }
   ],
   "source": [
    "# Imprimir los números primos entre 0 y 30\n",
    "# Una forma adicional de optimizar el código es reducir el rango de búsqueda para los divisores.\n",
    "# En lugar de verificar todos los números hasta la raíz cuadrada de num, podemos verificar solo los números impares, ya que cualquier número par que sea divisor de num ya se habría detectado antes.\n",
    "print(\"Números primos entre 0 y 30:\")\n",
    "for num in range(2, 31):\n",
    "    if num > 2 and num % 2 == 0:\n",
    "        continue  # Saltar los números pares mayores que 2\n",
    "    es_primo = True\n",
    "    for i in range(3, int(num ** 0.5) + 1, 2):  # Verificar solo los números impares como divisores\n",
    "        if num % i == 0:\n",
    "            es_primo = False\n",
    "            break\n",
    "    if es_primo:\n",
    "        print(num)"
   ]
  },
  {
   "attachments": {},
   "cell_type": "markdown",
   "metadata": {},
   "source": [
    "12) Aplicando continue, armar un ciclo while que solo imprima los valores divisibles por 12, dentro del rango de números de 100 a 300"
   ]
  },
  {
   "cell_type": "code",
   "execution_count": 27,
   "metadata": {},
   "outputs": [
    {
     "name": "stdout",
     "output_type": "stream",
     "text": [
      "Valores divisibles por 12 entre 100 y 300:\n",
      "108\n",
      "120\n",
      "132\n",
      "144\n",
      "156\n",
      "168\n",
      "180\n",
      "192\n",
      "204\n",
      "216\n",
      "228\n",
      "240\n",
      "252\n",
      "264\n",
      "276\n",
      "288\n",
      "300\n"
     ]
    }
   ],
   "source": [
    "# Inicializar la variable\n",
    "num = 100\n",
    "\n",
    "# Imprimir los valores divisibles por 12 dentro del rango de números de 100 a 300\n",
    "print(\"Valores divisibles por 12 entre 100 y 300:\")\n",
    "while num <= 300:\n",
    "    if num % 12 != 0:\n",
    "        num += 1\n",
    "        continue\n",
    "    print(num)\n",
    "    num += 1"
   ]
  },
  {
   "attachments": {},
   "cell_type": "markdown",
   "metadata": {},
   "source": [
    "13) Utilizar la función **input()** que permite hacer ingresos por teclado, para encontrar números primos y dar la opción al usario de buscar el siguiente"
   ]
  },
  {
   "cell_type": "code",
   "execution_count": 28,
   "metadata": {},
   "outputs": [
    {
     "name": "stdout",
     "output_type": "stream",
     "text": [
      "5 es un número primo.\n",
      "Saliendo del programa.\n"
     ]
    }
   ],
   "source": [
    "# Función para verificar si un número es primo\n",
    "def es_primo(numero):\n",
    "    if numero < 2:\n",
    "        return False\n",
    "    for i in range(2, int(numero ** 0.5) + 1):\n",
    "        if numero % i == 0:\n",
    "            return False\n",
    "    return True\n",
    "\n",
    "# Bucle para buscar números primos\n",
    "while True:\n",
    "    entrada = input(\"Ingrese un número para verificar si es primo (o 'salir' para terminar): \")\n",
    "    if entrada.lower() == 'salir':\n",
    "        print(\"Saliendo del programa.\")\n",
    "        break\n",
    "    try:\n",
    "        num = int(entrada)\n",
    "        if es_primo(num):\n",
    "            print(f\"{num} es un número primo.\")\n",
    "        else:\n",
    "            print(f\"{num} no es un número primo.\")\n",
    "    except ValueError:\n",
    "        print(\"Entrada inválida. Por favor, ingrese un número entero.\")\n",
    "\n"
   ]
  },
  {
   "attachments": {},
   "cell_type": "markdown",
   "metadata": {},
   "source": [
    "14) Crear un ciclo while que encuentre dentro del rango de 100 a 300 el primer número divisible por 3 y además múltiplo de 6"
   ]
  },
  {
   "cell_type": "code",
   "execution_count": 29,
   "metadata": {},
   "outputs": [
    {
     "name": "stdout",
     "output_type": "stream",
     "text": [
      "El primer número divisible por 3 y múltiplo de 6 dentro del rango de 100 a 300 es: 102\n"
     ]
    }
   ],
   "source": [
    "# Encontrar el primer número divisible por 3 y múltiplo de 6 dentro del rango de 100 a 300\n",
    "num = 100\n",
    "encontrado = False\n",
    "\n",
    "while num <= 300 and not encontrado:\n",
    "    if num % 3 == 0 and num % 6 == 0:\n",
    "        print(f\"El primer número divisible por 3 y múltiplo de 6 dentro del rango de 100 a 300 es: {num}\")\n",
    "        encontrado = True\n",
    "    num += 1\n"
   ]
  }
 ],
 "metadata": {
  "interpreter": {
   "hash": "c85384e4cb51c8b72350f3a8712cc8351fdc3955e32a27f9b60c6242ab125f01"
  },
  "kernelspec": {
   "display_name": "Python 3 (ipykernel)",
   "language": "python",
   "name": "python3"
  },
  "language_info": {
   "codemirror_mode": {
    "name": "ipython",
    "version": 3
   },
   "file_extension": ".py",
   "mimetype": "text/x-python",
   "name": "python",
   "nbconvert_exporter": "python",
   "pygments_lexer": "ipython3",
   "version": "3.12.1"
  }
 },
 "nbformat": 4,
 "nbformat_minor": 4
}
